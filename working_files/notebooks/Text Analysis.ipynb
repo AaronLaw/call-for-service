{
 "cells": [
  {
   "cell_type": "markdown",
   "metadata": {},
   "source": [
    "In this notebook, we'll be performing exploratory text analysis on the notes from Durham's CFS data.  Some ideas for places to take this:\n",
    "\n",
    " - Word frequencies for an initial look\n",
    " - Figure out the pattern (if any) behind the dispatcher scripts, including priority, chief complaint, questions/answers, and subject/vehicle descriptions\n",
    "\n",
    "Some observations from reading remarks:\n",
    " - \"x ft from STREET NAME\" indicates directed patrol at that location\n",
    " - there is a structure for transports that includes the distance traveled with a transport, but the officers don't appear to fill it out consistently\n",
    " - 10 codes are seen as \"10-72\" or just \"72\"\n",
    " - CAD-generated messages are prefixed by a bracketed descriptor -- usually \"[EPD]\".  Messages left by the units are preceded by (UNIT NUMBER).\n",
    " - "
   ]
  },
  {
   "cell_type": "markdown",
   "metadata": {},
   "source": [
    "To look at word frequencies, we have to combine all the words into a single corpus."
   ]
  },
  {
   "cell_type": "code",
   "execution_count": 1,
   "metadata": {
    "collapsed": false
   },
   "outputs": [
    {
     "name": "stderr",
     "output_type": "stream",
     "text": [
      "/Users/jnance/anaconda/lib/python3.4/site-packages/sqlalchemy/dialects/postgresql/base.py:2421: SAWarning: Did not recognize type 'geometry' of column 'point'\n",
      "  (attype, name))\n",
      "/Users/jnance/anaconda/lib/python3.4/site-packages/sqlalchemy/dialects/postgresql/base.py:2421: SAWarning: Did not recognize type 'geometry' of column 'geom'\n",
      "  (attype, name))\n",
      "/Users/jnance/anaconda/lib/python3.4/site-packages/sqlalchemy/dialects/postgresql/base.py:2421: SAWarning: Did not recognize type 'geometry' of column 'extent'\n",
      "  (attype, name))\n"
     ]
    }
   ],
   "source": [
    "import nltk\n",
    "import dataset\n",
    "from sqlalchemy import create_engine\n",
    "import pandas as pd\n",
    "from IPython.display import display\n",
    "from collections import defaultdict\n",
    "\n",
    "db_uri = \"postgresql://jnance:@localhost:5432/cfs\"\n",
    "\n",
    "engine = create_engine(db_uri)\n",
    "db = dataset.connect(db_uri)"
   ]
  },
  {
   "cell_type": "code",
   "execution_count": 2,
   "metadata": {
    "collapsed": false
   },
   "outputs": [
    {
     "name": "stderr",
     "output_type": "stream",
     "text": [
      "/Users/jnance/anaconda/lib/python3.4/site-packages/sqlalchemy/dialects/postgresql/base.py:2421: SAWarning: Did not recognize type 'geometry' of column 'geom'\n",
      "  (attype, name))\n",
      "/Users/jnance/anaconda/lib/python3.4/site-packages/sqlalchemy/dialects/postgresql/base.py:2421: SAWarning: Did not recognize type 'geometry' of column 'extent'\n",
      "  (attype, name))\n"
     ]
    }
   ],
   "source": [
    "notes = []\n",
    "\n",
    "for row in db.query(\"SELECT body FROM note;\"):\n",
    "    if row['body']:\n",
    "        notes += row['body'].lower().split()\n",
    "    \n",
    "txt = nltk.Text(notes)\n",
    "fd = nltk.FreqDist(txt)"
   ]
  },
  {
   "cell_type": "markdown",
   "metadata": {},
   "source": [
    "Here we can see the most frequent words in the corpus.  Many of these will probably become domain stopwords. (note: must download the nltk stopwords corpus using `nltk.download()` before this will work)"
   ]
  },
  {
   "cell_type": "code",
   "execution_count": 12,
   "metadata": {
    "collapsed": false,
    "scrolled": true
   },
   "outputs": [
    {
     "name": "stdout",
     "output_type": "stream",
     "text": [
      "========= TOP 100 WORDS =========\n",
      "1. caller\n",
      "2. [epd]\n",
      "3. -\n",
      "4. questions:\n",
      "5. ***\n",
      "6. scene.\n",
      "7. is:\n",
      "8. incident\n",
      "9. vehicle\n",
      "10. response:\n",
      "11. chief\n",
      "12. complaint:\n",
      "13. statement:\n",
      "14. 1.\n",
      "15. 2.\n",
      "16. 3.\n",
      "17. 4.\n",
      "18. 5.\n",
      "19. 6.\n",
      "20. info\n",
      "21. /\n",
      "22. 7.\n",
      "23. one\n",
      "24. code:\n",
      "25. person\n",
      "26. .\n",
      "27. description\n",
      "28. known\n",
      "29. involved.\n",
      "30. involves\n",
      "31. dispatch\n",
      "32. male\n",
      "33. 8.\n",
      "34. suspect\n",
      "35. call\n",
      "36. 9.\n",
      "37. weapons\n",
      "38. adv\n",
      "39. 1.suspect:\n",
      "40. back\n",
      "41. 10.\n",
      "42. location\n",
      "43. race:\n",
      "44. priority\n",
      "45. gender:\n",
      "46. 11.\n",
      "47. color:\n",
      "48. age:\n",
      "49. danger.\n",
      "50. clothing:\n",
      "51. alarm\n",
      "52. party\n",
      "53. cb\n",
      "54. happened\n",
      "55. blk\n",
      "56. business/resident/owner\n",
      "57. suspect`s\n",
      "58. reported\n",
      "59. known.\n",
      "60. 12.\n",
      "61. phone\n",
      "62. number\n",
      "63. traffic\n",
      "64. left\n",
      "65. suspect/person\n",
      "66. 2\n",
      "67. progress.\n",
      "68. area.\n",
      "69. involved\n",
      "70. female\n",
      "71. victim\n",
      "72. calling\n",
      "73. suspicious\n",
      "74. black\n",
      "75. pd\n",
      "76. name\n",
      "77. responsible\n",
      "78. n/a\n",
      "79. make:\n",
      "80. medical\n",
      "81. mentioned.\n",
      "82. area\n",
      "83. needs\n",
      "84. door\n",
      "85. 13.\n",
      "86. s/he\n",
      "87. body:\n",
      "88. [fire]\n",
      "89. 2nd\n",
      "90. victim.\n",
      "91. disturbance\n",
      "92. see\n",
      "93. ft\n",
      "94. disturbance.\n",
      "95. white\n",
      "96. veh\n",
      "97. line\n",
      "98. open\n",
      "99. model:\n",
      "100. theft\n",
      "\n",
      "\n"
     ]
    }
   ],
   "source": [
    "print(\"========= TOP 100 WORDS =========\")\n",
    "l = fd.most_common()\n",
    "ndx = 0\n",
    "num = 1\n",
    "ignore = nltk.corpus.stopwords.words('english')\n",
    "while (num <= 100 and ndx < len(l)):\n",
    "    if l[ndx][0] not in ignore:\n",
    "        print(str(num) + \". \" + l[ndx][0])\n",
    "        num += 1\n",
    "    ndx += 1\n",
    "print(\"\\n\")"
   ]
  },
  {
   "cell_type": "markdown",
   "metadata": {},
   "source": [
    "Many of these words are part of the call scripts transcribed by the CAD system, describing the caller's answers to specific questions asked by the dispatcher.  We'll probably need to add the script words to a stopword list, but we can keep the descriptive words that go along with them."
   ]
  },
  {
   "cell_type": "code",
   "execution_count": 14,
   "metadata": {
    "collapsed": false
   },
   "outputs": [],
   "source": [
    "dpd_stopwords = set(nltk.corpus.stopwords.words('english'))\n",
    "\n",
    "domain_stopwords = set(['caller', '[epd]', '-', 'questions:', 'scene.', '***', 'is:', 'incident', 'response:', 'chief',\n",
    "                       'complaint:', 'statement:', 'info', 'description', 'known', 'involved', 'involves', 'dispatch',\n",
    "                       '1.', '2.', '3.', '4.', '5.', '6.', '7.', '8.', '9.', '10.', '11.', '12.', '13.', '/', 'code:',\n",
    "                       '.', 'call', 'suspect', 'adv', '1.suspect:', 'location', 'race:', 'priority', 'gender:',\n",
    "                       'color:', 'age:', 'clothing:', 'cb', 'suspect`s', 'reported', 'known.', 'suspect/person',\n",
    "                       'progress.', 'area.', 'pd', 'name', 'n/a', 'make:', 'area', 's/he',\n",
    "                       '[fire]', 'model:'])\n",
    "\n",
    "dpd_stopwords.update(domain_stopwords)"
   ]
  },
  {
   "cell_type": "markdown",
   "metadata": {},
   "source": [
    "Trying again with domain stopwords added:"
   ]
  },
  {
   "cell_type": "code",
   "execution_count": 16,
   "metadata": {
    "collapsed": false,
    "scrolled": true
   },
   "outputs": [
    {
     "name": "stdout",
     "output_type": "stream",
     "text": [
      "========= TOP 100 WORDS =========\n",
      "1. vehicle\n",
      "2. one\n",
      "3. person\n",
      "4. involved.\n",
      "5. male\n",
      "6. weapons\n",
      "7. back\n",
      "8. danger.\n",
      "9. alarm\n",
      "10. party\n",
      "11. happened\n",
      "12. blk\n",
      "13. business/resident/owner\n",
      "14. phone\n",
      "15. number\n",
      "16. traffic\n",
      "17. left\n",
      "18. 2\n",
      "19. female\n",
      "20. victim\n",
      "21. calling\n",
      "22. suspicious\n",
      "23. black\n",
      "24. responsible\n",
      "25. medical\n",
      "26. mentioned.\n",
      "27. needs\n",
      "28. door\n",
      "29. body:\n",
      "30. 2nd\n",
      "31. victim.\n",
      "32. disturbance\n",
      "33. see\n",
      "34. ft\n",
      "35. disturbance.\n",
      "36. white\n",
      "37. veh\n",
      "38. line\n",
      "39. open\n",
      "40. theft\n",
      "41. attention.\n",
      "42. past:\n",
      "43. aborted\n",
      "44. leave\n",
      "45. alarms\n",
      "46. reportedly\n",
      "47. caller.\n",
      "48. 14.\n",
      "49. drugs\n",
      "50. monitoring\n",
      "51. company.\n",
      "52. two\n",
      "53. activation\n",
      "54. still\n",
      "55. keyholder/owner\n",
      "56. blocking\n",
      "57. emergency\n",
      "58. car\n",
      "59. alarm.\n",
      "60. law\n",
      "61. incident.\n",
      "62. contacted.\n",
      "63. property\n",
      "64. st\n",
      "65. someone\n",
      "66. front\n",
      "67. going\n",
      "68. advised\n",
      "69. house\n",
      "70. vm\n",
      "71. suspect/person/vehicle\n",
      "72. 1\n",
      "73. 4\n",
      "74. vehicles\n",
      "75. blue\n",
      "76. burglary/intrusion\n",
      "77. tty\n",
      "78. unk\n",
      "79. no:\n",
      "80. alcohol\n",
      "81. 3\n",
      "82. officer\n",
      "83. vehicle.\n",
      "84. people\n",
      "85. 3rd\n",
      "86. might\n",
      "87. in.\n",
      "88. wants\n",
      "89. ago):\n",
      "90. (minutes\n",
      "91. name:\n",
      "92. wanted\n",
      "93. slowing\n",
      "94. apt\n",
      "95. stated\n",
      "96. small\n",
      "97. contact\n",
      "98. shirt\n",
      "99. needed\n",
      "100. susp\n",
      "\n",
      "\n"
     ]
    }
   ],
   "source": [
    "print(\"========= TOP 100 WORDS =========\")\n",
    "l = fd.most_common()\n",
    "ndx = 0\n",
    "num = 1\n",
    "ignore = dpd_stopwords\n",
    "while (num <= 100 and ndx < len(l)):\n",
    "    if l[ndx][0] not in ignore:\n",
    "        print(str(num) + \". \" + l[ndx][0])\n",
    "        num += 1\n",
    "    ndx += 1\n",
    "print(\"\\n\")"
   ]
  },
  {
   "cell_type": "markdown",
   "metadata": {},
   "source": [
    "#Gang-related\n",
    "##Data gathering\n",
    "We did a segment for Tampa on gang-related calls.  In this case, we have the benefit of a \"curated\" data set, as the incidents have a flag indicating whether a given call is gang-related.  Let's see if we can classify calls as gang-related or not based on the call notes.\n",
    "\n",
    "First, we'll get the info for each call.  Some of this may be useful in the classifier."
   ]
  },
  {
   "cell_type": "code",
   "execution_count": 16,
   "metadata": {
    "collapsed": false
   },
   "outputs": [
    {
     "data": {
      "text/plain": [
       "(25418, 39)"
      ]
     },
     "execution_count": 16,
     "metadata": {},
     "output_type": "execute_result"
    }
   ],
   "source": [
    "call_info = pd.read_sql(\"SELECT call.*, gang_related FROM call, \"\n",
    "                        \"incident WHERE call.incident_id = incident.incident_id ORDER BY call_id;\",\n",
    "                        engine)\n",
    "call_info.shape"
   ]
  },
  {
   "cell_type": "markdown",
   "metadata": {},
   "source": [
    "Check out the columns to see which appear to be the most informative -- we'll drop any ones that are likely unnecessary or won't be accessible at the start of a call."
   ]
  },
  {
   "cell_type": "code",
   "execution_count": 17,
   "metadata": {
    "collapsed": false
   },
   "outputs": [
    {
     "name": "stdout",
     "output_type": "stream",
     "text": [
      "Index(['call_id', 'month_received', 'week_received', 'dow_received', 'hour_received', 'case_id', 'call_source_id', 'primary_unit_id', 'first_dispatched_id', 'reporting_unit_id', 'street_num', 'street_name', 'city_id', 'zip', 'crossroad1', 'crossroad2', 'geox', 'geoy', 'beat', 'district', 'sector', 'business', 'nature_id', 'priority', 'report_only', 'cancelled', 'time_received', 'time_routed', 'time_finished', 'first_unit_dispatch', 'first_unit_enroute', 'first_unit_arrive', 'first_unit_transport', 'last_unit_clear', 'time_closed', 'close_code_id', 'close_comments', 'incident_id', 'gang_related'], dtype='object')\n"
     ]
    }
   ],
   "source": [
    "print(call_info.columns)"
   ]
  },
  {
   "cell_type": "code",
   "execution_count": 18,
   "metadata": {
    "collapsed": false
   },
   "outputs": [],
   "source": [
    "drop_cols = ['case_id', 'reporting_unit_id', 'geox', 'geoy', 'report_only', 'cancelled', 'time_received',\n",
    "             'time_routed', 'time_finished', 'first_unit_dispatch', 'first_unit_enroute', 'first_unit_arrive',\n",
    "             'first_unit_transport', 'last_unit_clear', 'time_closed', 'close_code_id', 'close_comments']\n",
    "for col in drop_cols:\n",
    "    call_info = call_info.drop(col, axis=1)"
   ]
  },
  {
   "cell_type": "code",
   "execution_count": 19,
   "metadata": {
    "collapsed": false
   },
   "outputs": [
    {
     "data": {
      "text/plain": [
       "(25418, 22)"
      ]
     },
     "execution_count": 19,
     "metadata": {},
     "output_type": "execute_result"
    }
   ],
   "source": [
    "call_info.shape"
   ]
  },
  {
   "cell_type": "code",
   "execution_count": 20,
   "metadata": {
    "collapsed": false
   },
   "outputs": [
    {
     "data": {
      "text/plain": [
       "(23699, 1)"
      ]
     },
     "execution_count": 20,
     "metadata": {},
     "output_type": "execute_result"
    }
   ],
   "source": [
    "\"\"\"separate_notes = defaultdict(list)\n",
    "\n",
    "for row in db.query(\"SELECT * from note;\"):\n",
    "    separate_notes[row['call_id']].append(row['body'])\n",
    "\n",
    "note_bodies = []\n",
    "call_ids = []\n",
    "    \n",
    "for call_id in separate_notes.keys():\n",
    "    call_ids.append(call_id)\n",
    "    note_bodies.append('\\n'.join(separate_notes[call_id]))\n",
    "    \n",
    "notes = pd.DataFrame({'note': note_bodies}, index=call_ids)\n",
    "notes.index.name = 'call_id'\n",
    "notes.head()\"\"\"\n",
    "\n",
    "notes = pd.read_sql(\"SELECT note.call_id, body FROM note INNER JOIN call ON note.call_id=call.call_id \"\n",
    "                    \"WHERE call.incident_id IS NOT NULL ORDER BY call_id;\", con=engine)\n",
    "notes['body'] = notes['body'].map(lambda x: '' if x is None else x)\n",
    "note_grp = notes.groupby('call_id', sort=False).agg(lambda x: '\\n'.join(x.tolist()))\n",
    "note_grp.shape"
   ]
  },
  {
   "cell_type": "code",
   "execution_count": 21,
   "metadata": {
    "collapsed": false
   },
   "outputs": [
    {
     "data": {
      "text/html": [
       "<div style=\"max-height:1000px;max-width:1500px;overflow:auto;\">\n",
       "<table border=\"1\" class=\"dataframe\">\n",
       "  <thead>\n",
       "    <tr style=\"text-align: right;\">\n",
       "      <th></th>\n",
       "      <th>00</th>\n",
       "      <th>10</th>\n",
       "      <th>100</th>\n",
       "      <th>1000</th>\n",
       "      <th>104d01</th>\n",
       "      <th>106d04</th>\n",
       "      <th>11</th>\n",
       "      <th>110b02</th>\n",
       "      <th>110d02</th>\n",
       "      <th>111b01</th>\n",
       "      <th>...</th>\n",
       "      <th>x1</th>\n",
       "      <th>x2</th>\n",
       "      <th>yard</th>\n",
       "      <th>year</th>\n",
       "      <th>yelling</th>\n",
       "      <th>yellow</th>\n",
       "      <th>yesterday</th>\n",
       "      <th>yo</th>\n",
       "      <th>yoa</th>\n",
       "      <th>young</th>\n",
       "    </tr>\n",
       "  </thead>\n",
       "  <tbody>\n",
       "    <tr>\n",
       "      <th>0</th>\n",
       "      <td> 0</td>\n",
       "      <td> 0</td>\n",
       "      <td> 0</td>\n",
       "      <td> 0</td>\n",
       "      <td> 0</td>\n",
       "      <td> 0</td>\n",
       "      <td> 0</td>\n",
       "      <td> 0</td>\n",
       "      <td> 0</td>\n",
       "      <td> 0</td>\n",
       "      <td>...</td>\n",
       "      <td> 0</td>\n",
       "      <td> 0</td>\n",
       "      <td> 0</td>\n",
       "      <td> 0</td>\n",
       "      <td> 0</td>\n",
       "      <td> 0</td>\n",
       "      <td> 0</td>\n",
       "      <td> 0</td>\n",
       "      <td> 0</td>\n",
       "      <td> 0</td>\n",
       "    </tr>\n",
       "    <tr>\n",
       "      <th>1</th>\n",
       "      <td> 0</td>\n",
       "      <td> 0</td>\n",
       "      <td> 0</td>\n",
       "      <td> 0</td>\n",
       "      <td> 0</td>\n",
       "      <td> 0</td>\n",
       "      <td> 0</td>\n",
       "      <td> 0</td>\n",
       "      <td> 0</td>\n",
       "      <td> 0</td>\n",
       "      <td>...</td>\n",
       "      <td> 0</td>\n",
       "      <td> 1</td>\n",
       "      <td> 0</td>\n",
       "      <td> 0</td>\n",
       "      <td> 0</td>\n",
       "      <td> 0</td>\n",
       "      <td> 0</td>\n",
       "      <td> 1</td>\n",
       "      <td> 0</td>\n",
       "      <td> 0</td>\n",
       "    </tr>\n",
       "    <tr>\n",
       "      <th>2</th>\n",
       "      <td> 0</td>\n",
       "      <td> 0</td>\n",
       "      <td> 0</td>\n",
       "      <td> 0</td>\n",
       "      <td> 0</td>\n",
       "      <td> 0</td>\n",
       "      <td> 0</td>\n",
       "      <td> 0</td>\n",
       "      <td> 0</td>\n",
       "      <td> 0</td>\n",
       "      <td>...</td>\n",
       "      <td> 0</td>\n",
       "      <td> 0</td>\n",
       "      <td> 0</td>\n",
       "      <td> 0</td>\n",
       "      <td> 0</td>\n",
       "      <td> 0</td>\n",
       "      <td> 0</td>\n",
       "      <td> 0</td>\n",
       "      <td> 0</td>\n",
       "      <td> 0</td>\n",
       "    </tr>\n",
       "    <tr>\n",
       "      <th>3</th>\n",
       "      <td> 0</td>\n",
       "      <td> 0</td>\n",
       "      <td> 0</td>\n",
       "      <td> 0</td>\n",
       "      <td> 0</td>\n",
       "      <td> 0</td>\n",
       "      <td> 0</td>\n",
       "      <td> 0</td>\n",
       "      <td> 0</td>\n",
       "      <td> 0</td>\n",
       "      <td>...</td>\n",
       "      <td> 0</td>\n",
       "      <td> 0</td>\n",
       "      <td> 0</td>\n",
       "      <td> 0</td>\n",
       "      <td> 0</td>\n",
       "      <td> 0</td>\n",
       "      <td> 0</td>\n",
       "      <td> 0</td>\n",
       "      <td> 0</td>\n",
       "      <td> 0</td>\n",
       "    </tr>\n",
       "    <tr>\n",
       "      <th>4</th>\n",
       "      <td> 0</td>\n",
       "      <td> 1</td>\n",
       "      <td> 0</td>\n",
       "      <td> 0</td>\n",
       "      <td> 0</td>\n",
       "      <td> 0</td>\n",
       "      <td> 0</td>\n",
       "      <td> 0</td>\n",
       "      <td> 0</td>\n",
       "      <td> 0</td>\n",
       "      <td>...</td>\n",
       "      <td> 0</td>\n",
       "      <td> 0</td>\n",
       "      <td> 0</td>\n",
       "      <td> 0</td>\n",
       "      <td> 0</td>\n",
       "      <td> 0</td>\n",
       "      <td> 0</td>\n",
       "      <td> 0</td>\n",
       "      <td> 0</td>\n",
       "      <td> 0</td>\n",
       "    </tr>\n",
       "  </tbody>\n",
       "</table>\n",
       "<p>5 rows × 1064 columns</p>\n",
       "</div>"
      ],
      "text/plain": [
       "   00  10  100  1000  104d01  106d04  11  110b02  110d02  111b01  ...    x1  \\\n",
       "0   0   0    0     0       0       0   0       0       0       0  ...     0   \n",
       "1   0   0    0     0       0       0   0       0       0       0  ...     0   \n",
       "2   0   0    0     0       0       0   0       0       0       0  ...     0   \n",
       "3   0   0    0     0       0       0   0       0       0       0  ...     0   \n",
       "4   0   1    0     0       0       0   0       0       0       0  ...     0   \n",
       "\n",
       "   x2  yard  year  yelling  yellow  yesterday  yo  yoa  young  \n",
       "0   0     0     0        0       0          0   0    0      0  \n",
       "1   1     0     0        0       0          0   1    0      0  \n",
       "2   0     0     0        0       0          0   0    0      0  \n",
       "3   0     0     0        0       0          0   0    0      0  \n",
       "4   0     0     0        0       0          0   0    0      0  \n",
       "\n",
       "[5 rows x 1064 columns]"
      ]
     },
     "execution_count": 21,
     "metadata": {},
     "output_type": "execute_result"
    }
   ],
   "source": [
    "from nltk.corpus import stopwords\n",
    "from sklearn.feature_extraction.text import CountVectorizer\n",
    "from nltk.corpus import wordnet as wn\n",
    "\n",
    "stopwords = set(stopwords.words('english'))\n",
    "\n",
    "vec = CountVectorizer(stop_words=stopwords, min_df=0.005, max_df=0.99)\n",
    "data = vec.fit_transform(note_grp['body'].tolist()).toarray()\n",
    "data_names = vec.get_feature_names()\n",
    "\n",
    "group = pd.DataFrame(data, columns=data_names)\n",
    "group.shape()"
   ]
  },
  {
   "cell_type": "code",
   "execution_count": 22,
   "metadata": {
    "collapsed": false
   },
   "outputs": [
    {
     "data": {
      "text/html": [
       "<div style=\"max-height:1000px;max-width:1500px;overflow:auto;\">\n",
       "<table border=\"1\" class=\"dataframe\">\n",
       "  <thead>\n",
       "    <tr style=\"text-align: right;\">\n",
       "      <th></th>\n",
       "      <th>ten.n.01</th>\n",
       "      <th>ten.s.01</th>\n",
       "      <th>hundred.n.01</th>\n",
       "      <th>hundred.s.01</th>\n",
       "      <th>thousand.n.01</th>\n",
       "      <th>thousand.s.01</th>\n",
       "      <th>eleven.n.01</th>\n",
       "      <th>eleven.s.01</th>\n",
       "      <th>twelve.n.01</th>\n",
       "      <th>twelve.s.01</th>\n",
       "      <th>...</th>\n",
       "      <th>young.n.04</th>\n",
       "      <th>young.n.05</th>\n",
       "      <th>young.n.06</th>\n",
       "      <th>young.n.07</th>\n",
       "      <th>young.n.08</th>\n",
       "      <th>young.n.09</th>\n",
       "      <th>young.a.01</th>\n",
       "      <th>youthful.s.01</th>\n",
       "      <th>young.s.04</th>\n",
       "      <th>unseasoned.s.03</th>\n",
       "    </tr>\n",
       "  </thead>\n",
       "  <tbody>\n",
       "    <tr>\n",
       "      <th>0</th>\n",
       "      <td> 0</td>\n",
       "      <td> 0</td>\n",
       "      <td> 0</td>\n",
       "      <td> 0</td>\n",
       "      <td> 0</td>\n",
       "      <td> 0</td>\n",
       "      <td> 0</td>\n",
       "      <td> 0</td>\n",
       "      <td> 0</td>\n",
       "      <td> 0</td>\n",
       "      <td>...</td>\n",
       "      <td> 0</td>\n",
       "      <td> 0</td>\n",
       "      <td> 0</td>\n",
       "      <td> 0</td>\n",
       "      <td> 0</td>\n",
       "      <td> 0</td>\n",
       "      <td> 0</td>\n",
       "      <td> 0</td>\n",
       "      <td> 0</td>\n",
       "      <td> 0</td>\n",
       "    </tr>\n",
       "    <tr>\n",
       "      <th>1</th>\n",
       "      <td> 0</td>\n",
       "      <td> 0</td>\n",
       "      <td> 0</td>\n",
       "      <td> 0</td>\n",
       "      <td> 0</td>\n",
       "      <td> 0</td>\n",
       "      <td> 0</td>\n",
       "      <td> 0</td>\n",
       "      <td> 0</td>\n",
       "      <td> 0</td>\n",
       "      <td>...</td>\n",
       "      <td> 0</td>\n",
       "      <td> 0</td>\n",
       "      <td> 0</td>\n",
       "      <td> 0</td>\n",
       "      <td> 0</td>\n",
       "      <td> 0</td>\n",
       "      <td> 0</td>\n",
       "      <td> 0</td>\n",
       "      <td> 0</td>\n",
       "      <td> 0</td>\n",
       "    </tr>\n",
       "    <tr>\n",
       "      <th>2</th>\n",
       "      <td> 0</td>\n",
       "      <td> 0</td>\n",
       "      <td> 0</td>\n",
       "      <td> 0</td>\n",
       "      <td> 0</td>\n",
       "      <td> 0</td>\n",
       "      <td> 0</td>\n",
       "      <td> 0</td>\n",
       "      <td> 0</td>\n",
       "      <td> 0</td>\n",
       "      <td>...</td>\n",
       "      <td> 0</td>\n",
       "      <td> 0</td>\n",
       "      <td> 0</td>\n",
       "      <td> 0</td>\n",
       "      <td> 0</td>\n",
       "      <td> 0</td>\n",
       "      <td> 0</td>\n",
       "      <td> 0</td>\n",
       "      <td> 0</td>\n",
       "      <td> 0</td>\n",
       "    </tr>\n",
       "    <tr>\n",
       "      <th>3</th>\n",
       "      <td> 0</td>\n",
       "      <td> 0</td>\n",
       "      <td> 0</td>\n",
       "      <td> 0</td>\n",
       "      <td> 0</td>\n",
       "      <td> 0</td>\n",
       "      <td> 0</td>\n",
       "      <td> 0</td>\n",
       "      <td> 0</td>\n",
       "      <td> 0</td>\n",
       "      <td>...</td>\n",
       "      <td> 0</td>\n",
       "      <td> 0</td>\n",
       "      <td> 0</td>\n",
       "      <td> 0</td>\n",
       "      <td> 0</td>\n",
       "      <td> 0</td>\n",
       "      <td> 0</td>\n",
       "      <td> 0</td>\n",
       "      <td> 0</td>\n",
       "      <td> 0</td>\n",
       "    </tr>\n",
       "    <tr>\n",
       "      <th>4</th>\n",
       "      <td> 1</td>\n",
       "      <td> 1</td>\n",
       "      <td> 0</td>\n",
       "      <td> 0</td>\n",
       "      <td> 0</td>\n",
       "      <td> 0</td>\n",
       "      <td> 0</td>\n",
       "      <td> 0</td>\n",
       "      <td> 0</td>\n",
       "      <td> 0</td>\n",
       "      <td>...</td>\n",
       "      <td> 0</td>\n",
       "      <td> 0</td>\n",
       "      <td> 0</td>\n",
       "      <td> 0</td>\n",
       "      <td> 0</td>\n",
       "      <td> 0</td>\n",
       "      <td> 0</td>\n",
       "      <td> 0</td>\n",
       "      <td> 0</td>\n",
       "      <td> 0</td>\n",
       "    </tr>\n",
       "  </tbody>\n",
       "</table>\n",
       "<p>5 rows × 5206 columns</p>\n",
       "</div>"
      ],
      "text/plain": [
       "   ten.n.01  ten.s.01  hundred.n.01  hundred.s.01  thousand.n.01  \\\n",
       "0         0         0             0             0              0   \n",
       "1         0         0             0             0              0   \n",
       "2         0         0             0             0              0   \n",
       "3         0         0             0             0              0   \n",
       "4         1         1             0             0              0   \n",
       "\n",
       "   thousand.s.01  eleven.n.01  eleven.s.01  twelve.n.01  twelve.s.01  \\\n",
       "0              0            0            0            0            0   \n",
       "1              0            0            0            0            0   \n",
       "2              0            0            0            0            0   \n",
       "3              0            0            0            0            0   \n",
       "4              0            0            0            0            0   \n",
       "\n",
       "        ...         young.n.04  young.n.05  young.n.06  young.n.07  \\\n",
       "0       ...                  0           0           0           0   \n",
       "1       ...                  0           0           0           0   \n",
       "2       ...                  0           0           0           0   \n",
       "3       ...                  0           0           0           0   \n",
       "4       ...                  0           0           0           0   \n",
       "\n",
       "   young.n.08  young.n.09  young.a.01  youthful.s.01  young.s.04  \\\n",
       "0           0           0           0              0           0   \n",
       "1           0           0           0              0           0   \n",
       "2           0           0           0              0           0   \n",
       "3           0           0           0              0           0   \n",
       "4           0           0           0              0           0   \n",
       "\n",
       "   unseasoned.s.03  \n",
       "0                0  \n",
       "1                0  \n",
       "2                0  \n",
       "3                0  \n",
       "4                0  \n",
       "\n",
       "[5 rows x 5206 columns]"
      ]
     },
     "execution_count": 22,
     "metadata": {},
     "output_type": "execute_result"
    }
   ],
   "source": [
    "synset_df = pd.DataFrame()\n",
    "\n",
    "\n",
    "# Make DataFrame with synsets occuring >= 150 times\n",
    "for column in group.columns:\n",
    "    for synset in wn.synsets(column):\n",
    "        try:\n",
    "            synset_df[synset.name()] += group[column]\n",
    "        except KeyError:\n",
    "            synset_df[synset.name()] = group[column]\n",
    "\n",
    "for column in synset_df.columns:\n",
    "    if sum(synset_df[column]) < 250:\n",
    "        synset_df.drop(column, axis=1, inplace=True)\n",
    "        \n",
    "synset_df.shape()"
   ]
  },
  {
   "cell_type": "code",
   "execution_count": 23,
   "metadata": {
    "collapsed": true
   },
   "outputs": [],
   "source": [
    "# Make DataFrame with most common stems\n",
    "from nltk.stem.snowball import SnowballStemmer\n",
    "stemmer = SnowballStemmer(\"english\")\n",
    "\n",
    "stemmer_df = pd.DataFrame()\n",
    "for column in group.columns:\n",
    "    try:\n",
    "        stemmer_df[stemmer.stem(column)] += group[column]\n",
    "    except KeyError:\n",
    "        stemmer_df[stemmer.stem(column)] = group[column]\n",
    "        \n",
    "for column in stemmer_df.columns:\n",
    "    if sum(stemmer_df[column]) < 250:\n",
    "        stemmer_df.drop(column, axis=1, inplace=True)\n",
    "        \n",
    "for column in stemmer_df.columns:\n",
    "    new_column = column + '_stem'\n",
    "    stemmer_df.rename(columns={column: new_column}, inplace=True)\n",
    "    \n",
    "synset_and_stems = pd.concat([synset_df, stemmer_df], axis=1, join='inner')"
   ]
  },
  {
   "cell_type": "code",
   "execution_count": null,
   "metadata": {
    "collapsed": true
   },
   "outputs": [],
   "source": [
    "vec = CountVectorizer(stop_words=stopwords, min_df=0.05, max_df=0.99)\n",
    "data = vec.fit_transform(note_grp['body'].tolist()).toarray()\n",
    "data_names = vec.get_feature_names()\n",
    "\n",
    "group = pd.DataFrame(data, columns=data_names)\n",
    "group.head()"
   ]
  },
  {
   "cell_type": "code",
   "execution_count": 24,
   "metadata": {
    "collapsed": false
   },
   "outputs": [],
   "source": [
    "final_data = pd.concat([call_info, group, synset_and_stems], axis=1, join='inner')"
   ]
  },
  {
   "cell_type": "code",
   "execution_count": 25,
   "metadata": {
    "collapsed": false
   },
   "outputs": [],
   "source": [
    "final_data.to_csv('../csv_data/gang_related.csv', encoding='utf-8', index=False)"
   ]
  },
  {
   "cell_type": "code",
   "execution_count": 26,
   "metadata": {
    "collapsed": false
   },
   "outputs": [
    {
     "data": {
      "text/html": [
       "<div style=\"max-height:1000px;max-width:1500px;overflow:auto;\">\n",
       "<table border=\"1\" class=\"dataframe\">\n",
       "  <thead>\n",
       "    <tr style=\"text-align: right;\">\n",
       "      <th></th>\n",
       "      <th>call_id</th>\n",
       "      <th>month_received</th>\n",
       "      <th>week_received</th>\n",
       "      <th>dow_received</th>\n",
       "      <th>hour_received</th>\n",
       "      <th>call_source_id</th>\n",
       "      <th>primary_unit_id</th>\n",
       "      <th>first_dispatched_id</th>\n",
       "      <th>street_num</th>\n",
       "      <th>street_name</th>\n",
       "      <th>...</th>\n",
       "      <th>x1_stem</th>\n",
       "      <th>x2_stem</th>\n",
       "      <th>yard_stem</th>\n",
       "      <th>year_stem</th>\n",
       "      <th>yell_stem</th>\n",
       "      <th>yellow_stem</th>\n",
       "      <th>yesterday_stem</th>\n",
       "      <th>yo_stem</th>\n",
       "      <th>yoa_stem</th>\n",
       "      <th>young_stem</th>\n",
       "    </tr>\n",
       "  </thead>\n",
       "  <tbody>\n",
       "    <tr>\n",
       "      <th>0</th>\n",
       "      <td> 2014000003</td>\n",
       "      <td> 1</td>\n",
       "      <td> 1</td>\n",
       "      <td> 2</td>\n",
       "      <td> 0</td>\n",
       "      <td>  8</td>\n",
       "      <td> 162</td>\n",
       "      <td> 162</td>\n",
       "      <td> 1610</td>\n",
       "      <td>                                         GUESS RD</td>\n",
       "      <td>...</td>\n",
       "      <td> 0</td>\n",
       "      <td> 0</td>\n",
       "      <td> 0</td>\n",
       "      <td> 0</td>\n",
       "      <td> 0</td>\n",
       "      <td> 0</td>\n",
       "      <td> 0</td>\n",
       "      <td> 0</td>\n",
       "      <td> 0</td>\n",
       "      <td> 0</td>\n",
       "    </tr>\n",
       "    <tr>\n",
       "      <th>1</th>\n",
       "      <td> 2014000015</td>\n",
       "      <td> 1</td>\n",
       "      <td> 1</td>\n",
       "      <td> 2</td>\n",
       "      <td> 0</td>\n",
       "      <td>  3</td>\n",
       "      <td> 599</td>\n",
       "      <td> 599</td>\n",
       "      <td>  115</td>\n",
       "      <td>                                      COMMERCE ST</td>\n",
       "      <td>...</td>\n",
       "      <td> 0</td>\n",
       "      <td> 1</td>\n",
       "      <td> 0</td>\n",
       "      <td> 0</td>\n",
       "      <td> 0</td>\n",
       "      <td> 0</td>\n",
       "      <td> 0</td>\n",
       "      <td> 1</td>\n",
       "      <td> 0</td>\n",
       "      <td> 0</td>\n",
       "    </tr>\n",
       "    <tr>\n",
       "      <th>2</th>\n",
       "      <td> 2014000042</td>\n",
       "      <td> 1</td>\n",
       "      <td> 1</td>\n",
       "      <td> 2</td>\n",
       "      <td> 0</td>\n",
       "      <td> 12</td>\n",
       "      <td> 165</td>\n",
       "      <td> 165</td>\n",
       "      <td>  531</td>\n",
       "      <td>                                     S ROXBORO ST</td>\n",
       "      <td>...</td>\n",
       "      <td> 0</td>\n",
       "      <td> 0</td>\n",
       "      <td> 0</td>\n",
       "      <td> 0</td>\n",
       "      <td> 0</td>\n",
       "      <td> 0</td>\n",
       "      <td> 0</td>\n",
       "      <td> 0</td>\n",
       "      <td> 0</td>\n",
       "      <td> 0</td>\n",
       "    </tr>\n",
       "    <tr>\n",
       "      <th>3</th>\n",
       "      <td> 2014000083</td>\n",
       "      <td> 1</td>\n",
       "      <td> 1</td>\n",
       "      <td> 2</td>\n",
       "      <td> 0</td>\n",
       "      <td>  3</td>\n",
       "      <td>   9</td>\n",
       "      <td>   9</td>\n",
       "      <td> 4600</td>\n",
       "      <td>                                    UNIVERSITY DR</td>\n",
       "      <td>...</td>\n",
       "      <td> 0</td>\n",
       "      <td> 0</td>\n",
       "      <td> 0</td>\n",
       "      <td> 0</td>\n",
       "      <td> 0</td>\n",
       "      <td> 0</td>\n",
       "      <td> 0</td>\n",
       "      <td> 0</td>\n",
       "      <td> 0</td>\n",
       "      <td> 0</td>\n",
       "    </tr>\n",
       "    <tr>\n",
       "      <th>4</th>\n",
       "      <td> 2014000102</td>\n",
       "      <td> 1</td>\n",
       "      <td> 1</td>\n",
       "      <td> 2</td>\n",
       "      <td> 1</td>\n",
       "      <td>  8</td>\n",
       "      <td>  27</td>\n",
       "      <td> 311</td>\n",
       "      <td> 4230</td>\n",
       "      <td> UNIVERSITY DR/MARTIN LUTHER KING JR PKWY ON RAMP</td>\n",
       "      <td>...</td>\n",
       "      <td> 0</td>\n",
       "      <td> 0</td>\n",
       "      <td> 0</td>\n",
       "      <td> 0</td>\n",
       "      <td> 0</td>\n",
       "      <td> 0</td>\n",
       "      <td> 0</td>\n",
       "      <td> 0</td>\n",
       "      <td> 0</td>\n",
       "      <td> 0</td>\n",
       "    </tr>\n",
       "  </tbody>\n",
       "</table>\n",
       "<p>5 rows × 7220 columns</p>\n",
       "</div>"
      ],
      "text/plain": [
       "      call_id  month_received  week_received  dow_received  hour_received  \\\n",
       "0  2014000003               1              1             2              0   \n",
       "1  2014000015               1              1             2              0   \n",
       "2  2014000042               1              1             2              0   \n",
       "3  2014000083               1              1             2              0   \n",
       "4  2014000102               1              1             2              1   \n",
       "\n",
       "   call_source_id  primary_unit_id  first_dispatched_id  street_num  \\\n",
       "0               8              162                  162        1610   \n",
       "1               3              599                  599         115   \n",
       "2              12              165                  165         531   \n",
       "3               3                9                    9        4600   \n",
       "4               8               27                  311        4230   \n",
       "\n",
       "                                        street_name    ...      x1_stem  \\\n",
       "0                                          GUESS RD    ...            0   \n",
       "1                                       COMMERCE ST    ...            0   \n",
       "2                                      S ROXBORO ST    ...            0   \n",
       "3                                     UNIVERSITY DR    ...            0   \n",
       "4  UNIVERSITY DR/MARTIN LUTHER KING JR PKWY ON RAMP    ...            0   \n",
       "\n",
       "   x2_stem yard_stem year_stem yell_stem yellow_stem yesterday_stem yo_stem  \\\n",
       "0        0         0         0         0           0              0       0   \n",
       "1        1         0         0         0           0              0       1   \n",
       "2        0         0         0         0           0              0       0   \n",
       "3        0         0         0         0           0              0       0   \n",
       "4        0         0         0         0           0              0       0   \n",
       "\n",
       "   yoa_stem young_stem  \n",
       "0         0          0  \n",
       "1         0          0  \n",
       "2         0          0  \n",
       "3         0          0  \n",
       "4         0          0  \n",
       "\n",
       "[5 rows x 7220 columns]"
      ]
     },
     "execution_count": 26,
     "metadata": {},
     "output_type": "execute_result"
    }
   ],
   "source": [
    "final_data.head()"
   ]
  },
  {
   "cell_type": "markdown",
   "metadata": {},
   "source": [
    "##Classification"
   ]
  },
  {
   "cell_type": "code",
   "execution_count": 2,
   "metadata": {
    "collapsed": false
   },
   "outputs": [],
   "source": [
    "from sklearn import metrics\n",
    "from sklearn import cross_validation\n",
    "from sklearn.metrics import classification_report\n",
    "from sklearn.linear_model import LogisticRegressionCV\n",
    "from sklearn.svm import SVC\n",
    "from sklearn.naive_bayes import MultinomialNB\n",
    "from sklearn.preprocessing import LabelEncoder"
   ]
  },
  {
   "cell_type": "code",
   "execution_count": 13,
   "metadata": {
    "collapsed": false
   },
   "outputs": [
    {
     "name": "stderr",
     "output_type": "stream",
     "text": [
      "/Users/jnance/anaconda/lib/python3.4/site-packages/pandas/io/parsers.py:1159: DtypeWarning: Columns (14) have mixed types. Specify dtype option on import or set low_memory=False.\n",
      "  data = self._reader.read(nrows)\n"
     ]
    }
   ],
   "source": [
    "data = pd.read_csv('../csv_data/gang_related.csv', encoding='utf-8')"
   ]
  },
  {
   "cell_type": "code",
   "execution_count": 14,
   "metadata": {
    "collapsed": false
   },
   "outputs": [
    {
     "data": {
      "text/plain": [
       "False    20877\n",
       "True       609\n",
       "dtype: int64"
      ]
     },
     "execution_count": 14,
     "metadata": {},
     "output_type": "execute_result"
    }
   ],
   "source": [
    "data['gang_related'].value_counts()"
   ]
  },
  {
   "cell_type": "code",
   "execution_count": 10,
   "metadata": {
    "collapsed": false
   },
   "outputs": [
    {
     "ename": "KeyError",
     "evalue": "True",
     "output_type": "error",
     "traceback": [
      "\u001b[0;31m---------------------------------------------------------------------------\u001b[0m",
      "\u001b[0;31mKeyError\u001b[0m                                  Traceback (most recent call last)",
      "\u001b[0;32m<ipython-input-10-a38a832c039f>\u001b[0m in \u001b[0;36m<module>\u001b[0;34m()\u001b[0m\n\u001b[1;32m      1\u001b[0m \u001b[0mdata\u001b[0m\u001b[0;34m.\u001b[0m\u001b[0mfillna\u001b[0m\u001b[0;34m(\u001b[0m\u001b[0;36m0\u001b[0m\u001b[0;34m,\u001b[0m \u001b[0minplace\u001b[0m\u001b[0;34m=\u001b[0m\u001b[0;32mTrue\u001b[0m\u001b[0;34m)\u001b[0m\u001b[0;34m\u001b[0m\u001b[0m\n\u001b[0;32m----> 2\u001b[0;31m \u001b[0mdata\u001b[0m \u001b[0;34m=\u001b[0m \u001b[0mdata\u001b[0m\u001b[0;34m[\u001b[0m\u001b[0mdata\u001b[0m\u001b[0;34m[\u001b[0m\u001b[0;34m'gang_related'\u001b[0m\u001b[0;34m]\u001b[0m \u001b[0;32mis\u001b[0m \u001b[0;32mnot\u001b[0m \u001b[0;32mNone\u001b[0m\u001b[0;34m]\u001b[0m\u001b[0;34m\u001b[0m\u001b[0m\n\u001b[0m\u001b[1;32m      3\u001b[0m \u001b[0mdata\u001b[0m\u001b[0;34m[\u001b[0m\u001b[0;34m'gang_related'\u001b[0m\u001b[0;34m]\u001b[0m \u001b[0;34m=\u001b[0m \u001b[0mdata\u001b[0m\u001b[0;34m[\u001b[0m\u001b[0;34m'gang_related'\u001b[0m\u001b[0;34m]\u001b[0m\u001b[0;34m.\u001b[0m\u001b[0mastype\u001b[0m\u001b[0;34m(\u001b[0m\u001b[0mint\u001b[0m\u001b[0;34m)\u001b[0m\u001b[0;34m\u001b[0m\u001b[0m\n\u001b[1;32m      4\u001b[0m \u001b[0;34m\u001b[0m\u001b[0m\n\u001b[1;32m      5\u001b[0m \u001b[0;32mfor\u001b[0m \u001b[0mstr_col\u001b[0m \u001b[0;32min\u001b[0m \u001b[0;34m(\u001b[0m\u001b[0;34m'street_name'\u001b[0m\u001b[0;34m,\u001b[0m \u001b[0;34m'crossroad1'\u001b[0m\u001b[0;34m,\u001b[0m \u001b[0;34m'crossroad2'\u001b[0m\u001b[0;34m,\u001b[0m \u001b[0;34m'beat'\u001b[0m\u001b[0;34m,\u001b[0m \u001b[0;34m'district'\u001b[0m\u001b[0;34m,\u001b[0m \u001b[0;34m'sector'\u001b[0m\u001b[0;34m,\u001b[0m \u001b[0;34m'business'\u001b[0m\u001b[0;34m,\u001b[0m \u001b[0;34m'priority'\u001b[0m\u001b[0;34m)\u001b[0m\u001b[0;34m:\u001b[0m\u001b[0;34m\u001b[0m\u001b[0m\n",
      "\u001b[0;32m/Users/jnance/anaconda/lib/python3.4/site-packages/pandas/core/frame.py\u001b[0m in \u001b[0;36m__getitem__\u001b[0;34m(self, key)\u001b[0m\n\u001b[1;32m   1778\u001b[0m             \u001b[0;32mreturn\u001b[0m \u001b[0mself\u001b[0m\u001b[0;34m.\u001b[0m\u001b[0m_getitem_multilevel\u001b[0m\u001b[0;34m(\u001b[0m\u001b[0mkey\u001b[0m\u001b[0;34m)\u001b[0m\u001b[0;34m\u001b[0m\u001b[0m\n\u001b[1;32m   1779\u001b[0m         \u001b[0;32melse\u001b[0m\u001b[0;34m:\u001b[0m\u001b[0;34m\u001b[0m\u001b[0m\n\u001b[0;32m-> 1780\u001b[0;31m             \u001b[0;32mreturn\u001b[0m \u001b[0mself\u001b[0m\u001b[0;34m.\u001b[0m\u001b[0m_getitem_column\u001b[0m\u001b[0;34m(\u001b[0m\u001b[0mkey\u001b[0m\u001b[0;34m)\u001b[0m\u001b[0;34m\u001b[0m\u001b[0m\n\u001b[0m\u001b[1;32m   1781\u001b[0m \u001b[0;34m\u001b[0m\u001b[0m\n\u001b[1;32m   1782\u001b[0m     \u001b[0;32mdef\u001b[0m \u001b[0m_getitem_column\u001b[0m\u001b[0;34m(\u001b[0m\u001b[0mself\u001b[0m\u001b[0;34m,\u001b[0m \u001b[0mkey\u001b[0m\u001b[0;34m)\u001b[0m\u001b[0;34m:\u001b[0m\u001b[0;34m\u001b[0m\u001b[0m\n",
      "\u001b[0;32m/Users/jnance/anaconda/lib/python3.4/site-packages/pandas/core/frame.py\u001b[0m in \u001b[0;36m_getitem_column\u001b[0;34m(self, key)\u001b[0m\n\u001b[1;32m   1785\u001b[0m         \u001b[0;31m# get column\u001b[0m\u001b[0;34m\u001b[0m\u001b[0;34m\u001b[0m\u001b[0m\n\u001b[1;32m   1786\u001b[0m         \u001b[0;32mif\u001b[0m \u001b[0mself\u001b[0m\u001b[0;34m.\u001b[0m\u001b[0mcolumns\u001b[0m\u001b[0;34m.\u001b[0m\u001b[0mis_unique\u001b[0m\u001b[0;34m:\u001b[0m\u001b[0;34m\u001b[0m\u001b[0m\n\u001b[0;32m-> 1787\u001b[0;31m             \u001b[0;32mreturn\u001b[0m \u001b[0mself\u001b[0m\u001b[0;34m.\u001b[0m\u001b[0m_get_item_cache\u001b[0m\u001b[0;34m(\u001b[0m\u001b[0mkey\u001b[0m\u001b[0;34m)\u001b[0m\u001b[0;34m\u001b[0m\u001b[0m\n\u001b[0m\u001b[1;32m   1788\u001b[0m \u001b[0;34m\u001b[0m\u001b[0m\n\u001b[1;32m   1789\u001b[0m         \u001b[0;31m# duplicate columns & possible reduce dimensionaility\u001b[0m\u001b[0;34m\u001b[0m\u001b[0;34m\u001b[0m\u001b[0m\n",
      "\u001b[0;32m/Users/jnance/anaconda/lib/python3.4/site-packages/pandas/core/generic.py\u001b[0m in \u001b[0;36m_get_item_cache\u001b[0;34m(self, item)\u001b[0m\n\u001b[1;32m   1066\u001b[0m         \u001b[0mres\u001b[0m \u001b[0;34m=\u001b[0m \u001b[0mcache\u001b[0m\u001b[0;34m.\u001b[0m\u001b[0mget\u001b[0m\u001b[0;34m(\u001b[0m\u001b[0mitem\u001b[0m\u001b[0;34m)\u001b[0m\u001b[0;34m\u001b[0m\u001b[0m\n\u001b[1;32m   1067\u001b[0m         \u001b[0;32mif\u001b[0m \u001b[0mres\u001b[0m \u001b[0;32mis\u001b[0m \u001b[0;32mNone\u001b[0m\u001b[0;34m:\u001b[0m\u001b[0;34m\u001b[0m\u001b[0m\n\u001b[0;32m-> 1068\u001b[0;31m             \u001b[0mvalues\u001b[0m \u001b[0;34m=\u001b[0m \u001b[0mself\u001b[0m\u001b[0;34m.\u001b[0m\u001b[0m_data\u001b[0m\u001b[0;34m.\u001b[0m\u001b[0mget\u001b[0m\u001b[0;34m(\u001b[0m\u001b[0mitem\u001b[0m\u001b[0;34m)\u001b[0m\u001b[0;34m\u001b[0m\u001b[0m\n\u001b[0m\u001b[1;32m   1069\u001b[0m             \u001b[0mres\u001b[0m \u001b[0;34m=\u001b[0m \u001b[0mself\u001b[0m\u001b[0;34m.\u001b[0m\u001b[0m_box_item_values\u001b[0m\u001b[0;34m(\u001b[0m\u001b[0mitem\u001b[0m\u001b[0;34m,\u001b[0m \u001b[0mvalues\u001b[0m\u001b[0;34m)\u001b[0m\u001b[0;34m\u001b[0m\u001b[0m\n\u001b[1;32m   1070\u001b[0m             \u001b[0mcache\u001b[0m\u001b[0;34m[\u001b[0m\u001b[0mitem\u001b[0m\u001b[0;34m]\u001b[0m \u001b[0;34m=\u001b[0m \u001b[0mres\u001b[0m\u001b[0;34m\u001b[0m\u001b[0m\n",
      "\u001b[0;32m/Users/jnance/anaconda/lib/python3.4/site-packages/pandas/core/internals.py\u001b[0m in \u001b[0;36mget\u001b[0;34m(self, item, fastpath)\u001b[0m\n\u001b[1;32m   2847\u001b[0m \u001b[0;34m\u001b[0m\u001b[0m\n\u001b[1;32m   2848\u001b[0m             \u001b[0;32mif\u001b[0m \u001b[0;32mnot\u001b[0m \u001b[0misnull\u001b[0m\u001b[0;34m(\u001b[0m\u001b[0mitem\u001b[0m\u001b[0;34m)\u001b[0m\u001b[0;34m:\u001b[0m\u001b[0;34m\u001b[0m\u001b[0m\n\u001b[0;32m-> 2849\u001b[0;31m                 \u001b[0mloc\u001b[0m \u001b[0;34m=\u001b[0m \u001b[0mself\u001b[0m\u001b[0;34m.\u001b[0m\u001b[0mitems\u001b[0m\u001b[0;34m.\u001b[0m\u001b[0mget_loc\u001b[0m\u001b[0;34m(\u001b[0m\u001b[0mitem\u001b[0m\u001b[0;34m)\u001b[0m\u001b[0;34m\u001b[0m\u001b[0m\n\u001b[0m\u001b[1;32m   2850\u001b[0m             \u001b[0;32melse\u001b[0m\u001b[0;34m:\u001b[0m\u001b[0;34m\u001b[0m\u001b[0m\n\u001b[1;32m   2851\u001b[0m                 \u001b[0mindexer\u001b[0m \u001b[0;34m=\u001b[0m \u001b[0mnp\u001b[0m\u001b[0;34m.\u001b[0m\u001b[0marange\u001b[0m\u001b[0;34m(\u001b[0m\u001b[0mlen\u001b[0m\u001b[0;34m(\u001b[0m\u001b[0mself\u001b[0m\u001b[0;34m.\u001b[0m\u001b[0mitems\u001b[0m\u001b[0;34m)\u001b[0m\u001b[0;34m)\u001b[0m\u001b[0;34m[\u001b[0m\u001b[0misnull\u001b[0m\u001b[0;34m(\u001b[0m\u001b[0mself\u001b[0m\u001b[0;34m.\u001b[0m\u001b[0mitems\u001b[0m\u001b[0;34m)\u001b[0m\u001b[0;34m]\u001b[0m\u001b[0;34m\u001b[0m\u001b[0m\n",
      "\u001b[0;32m/Users/jnance/anaconda/lib/python3.4/site-packages/pandas/core/index.py\u001b[0m in \u001b[0;36mget_loc\u001b[0;34m(self, key)\u001b[0m\n\u001b[1;32m   1400\u001b[0m         \u001b[0mloc\u001b[0m \u001b[0;34m:\u001b[0m \u001b[0mint\u001b[0m \u001b[0;32mif\u001b[0m \u001b[0munique\u001b[0m \u001b[0mindex\u001b[0m\u001b[0;34m,\u001b[0m \u001b[0mpossibly\u001b[0m \u001b[0mslice\u001b[0m \u001b[0;32mor\u001b[0m \u001b[0mmask\u001b[0m \u001b[0;32mif\u001b[0m \u001b[0;32mnot\u001b[0m\u001b[0;34m\u001b[0m\u001b[0m\n\u001b[1;32m   1401\u001b[0m         \"\"\"\n\u001b[0;32m-> 1402\u001b[0;31m         \u001b[0;32mreturn\u001b[0m \u001b[0mself\u001b[0m\u001b[0;34m.\u001b[0m\u001b[0m_engine\u001b[0m\u001b[0;34m.\u001b[0m\u001b[0mget_loc\u001b[0m\u001b[0;34m(\u001b[0m\u001b[0m_values_from_object\u001b[0m\u001b[0;34m(\u001b[0m\u001b[0mkey\u001b[0m\u001b[0;34m)\u001b[0m\u001b[0;34m)\u001b[0m\u001b[0;34m\u001b[0m\u001b[0m\n\u001b[0m\u001b[1;32m   1403\u001b[0m \u001b[0;34m\u001b[0m\u001b[0m\n\u001b[1;32m   1404\u001b[0m     \u001b[0;32mdef\u001b[0m \u001b[0mget_value\u001b[0m\u001b[0;34m(\u001b[0m\u001b[0mself\u001b[0m\u001b[0;34m,\u001b[0m \u001b[0mseries\u001b[0m\u001b[0;34m,\u001b[0m \u001b[0mkey\u001b[0m\u001b[0;34m)\u001b[0m\u001b[0;34m:\u001b[0m\u001b[0;34m\u001b[0m\u001b[0m\n",
      "\u001b[0;32mpandas/index.pyx\u001b[0m in \u001b[0;36mpandas.index.IndexEngine.get_loc (pandas/index.c:3820)\u001b[0;34m()\u001b[0m\n",
      "\u001b[0;32mpandas/index.pyx\u001b[0m in \u001b[0;36mpandas.index.IndexEngine.get_loc (pandas/index.c:3700)\u001b[0;34m()\u001b[0m\n",
      "\u001b[0;32mpandas/hashtable.pyx\u001b[0m in \u001b[0;36mpandas.hashtable.PyObjectHashTable.get_item (pandas/hashtable.c:12323)\u001b[0;34m()\u001b[0m\n",
      "\u001b[0;32mpandas/hashtable.pyx\u001b[0m in \u001b[0;36mpandas.hashtable.PyObjectHashTable.get_item (pandas/hashtable.c:12274)\u001b[0;34m()\u001b[0m\n",
      "\u001b[0;31mKeyError\u001b[0m: True"
     ]
    }
   ],
   "source": [
    "data = data[data['gang_related'] is not None]\n",
    "data['gang_related'] = data['gang_related'].astype(int)\n",
    "\n",
    "for str_col in ('street_name', 'crossroad1', 'crossroad2', 'beat', 'district', 'sector', 'business', 'priority'):\n",
    "    le = LabelEncoder()\n",
    "    #le.fit(data[str_col].tolist())\n",
    "    data[str_col] = pd.Series(le.fit_transform(data[str_col].tolist()))\n",
    "data_features = data.drop('gang_related', 1)\n",
    "data_features_values = data_features.values\n",
    "feature_labels = list(data_features.columns.values)\n",
    "\n",
    "#Subset training\n",
    "data_train = data_features.loc[4250:]\n",
    "data_train_features_values = data_train.values\n",
    "\n",
    "#Subset target\n",
    "data_train_target = data.loc[4250:]['gang_related']\n",
    "data_train_target_values = data_train_target.values #.astype('<U32')\n",
    "data_train_features_values = data_train_features_values #.astype('<U32')\n",
    "\n",
    "#Subset validation\n",
    "data_valid = data_features.loc[0:4250]\n",
    "data_valid_features_values = data_valid.values\n",
    "\n",
    "data_valid_features_values = data_valid_features_values #.astype('float32')\n",
    "data_valid_target = data.loc[0:4250]['gang_related']\n",
    "data_valid_target_values = data_valid_target.values #.astype('float32')"
   ]
  },
  {
   "cell_type": "code",
   "execution_count": 6,
   "metadata": {
    "collapsed": false
   },
   "outputs": [
    {
     "data": {
      "text/plain": [
       "LogisticRegressionCV(Cs=10, class_weight=None, cv=None, dual=False,\n",
       "           fit_intercept=True, intercept_scaling=1.0, max_iter=100,\n",
       "           multi_class='ovr', n_jobs=1, penalty='l2', refit=True,\n",
       "           scoring=None, solver='lbfgs', tol=0.0001, verbose=0)"
      ]
     },
     "execution_count": 6,
     "metadata": {},
     "output_type": "execute_result"
    }
   ],
   "source": [
    "clf = LogisticRegressionCV(method='l1', cv=5, solver='liblinear')\n",
    "clf.fit(data_train_features_values, data_train_target_values)"
   ]
  },
  {
   "cell_type": "code",
   "execution_count": 7,
   "metadata": {
    "collapsed": true
   },
   "outputs": [],
   "source": [
    "testing=clf.predict(data_valid_features_values)"
   ]
  },
  {
   "cell_type": "code",
   "execution_count": 8,
   "metadata": {
    "collapsed": false
   },
   "outputs": [],
   "source": [
    "validation = clf.score(data_valid_features_values, data_valid_target)"
   ]
  },
  {
   "cell_type": "code",
   "execution_count": 9,
   "metadata": {
    "collapsed": false
   },
   "outputs": [
    {
     "data": {
      "text/plain": [
       "0.96683133380381092"
      ]
     },
     "execution_count": 9,
     "metadata": {},
     "output_type": "execute_result"
    }
   ],
   "source": [
    "validation"
   ]
  },
  {
   "cell_type": "code",
   "execution_count": null,
   "metadata": {
    "collapsed": true
   },
   "outputs": [],
   "source": []
  }
 ],
 "metadata": {
  "kernelspec": {
   "display_name": "Python 3",
   "language": "python",
   "name": "python3"
  },
  "language_info": {
   "codemirror_mode": {
    "name": "ipython",
    "version": 3
   },
   "file_extension": ".py",
   "mimetype": "text/x-python",
   "name": "python",
   "nbconvert_exporter": "python",
   "pygments_lexer": "ipython3",
   "version": "3.4.3"
  }
 },
 "nbformat": 4,
 "nbformat_minor": 0
}
