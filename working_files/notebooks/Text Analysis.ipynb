{
 "cells": [
  {
   "cell_type": "markdown",
   "metadata": {},
   "source": [
    "In this notebook, we'll be performing exploratory text analysis on the notes from Durham's CFS data.  To look at word frequencies, we have to combine all the words into a single corpus."
   ]
  },
  {
   "cell_type": "code",
   "execution_count": null,
   "metadata": {
    "collapsed": true
   },
   "outputs": [],
   "source": [
    "import nltk\n",
    "import dataset\n",
    "\n",
    "db = dataset.connect(\"postgresql://jnance:@localhost:5432/cfs\")"
   ]
  },
  {
   "cell_type": "code",
   "execution_count": 2,
   "metadata": {
    "collapsed": false
   },
   "outputs": [
    {
     "name": "stderr",
     "output_type": "stream",
     "text": [
      "/Users/jnance/anaconda/lib/python3.4/site-packages/sqlalchemy/dialects/postgresql/base.py:2421: SAWarning: Did not recognize type 'geometry' of column 'geom'\n",
      "  (attype, name))\n",
      "/Users/jnance/anaconda/lib/python3.4/site-packages/sqlalchemy/dialects/postgresql/base.py:2421: SAWarning: Did not recognize type 'geometry' of column 'extent'\n",
      "  (attype, name))\n"
     ]
    }
   ],
   "source": [
    "notes = []\n",
    "\n",
    "for row in db.query(\"SELECT body FROM note;\"):\n",
    "    if row['body']:\n",
    "        notes += row['body'].lower().split()\n",
    "    \n",
    "txt = nltk.Text(notes)\n",
    "fd = nltk.FreqDist(txt)"
   ]
  },
  {
   "cell_type": "markdown",
   "metadata": {},
   "source": [
    "Here we can see the most frequent words in the corpus.  Many of these will probably become domain stopwords. (note: must download the nltk stopwords corpus using `nltk.download()` before this will work)"
   ]
  },
  {
   "cell_type": "code",
   "execution_count": 12,
   "metadata": {
    "collapsed": false,
    "scrolled": true
   },
   "outputs": [
    {
     "name": "stdout",
     "output_type": "stream",
     "text": [
      "========= TOP 100 WORDS =========\n",
      "1. caller\n",
      "2. [epd]\n",
      "3. -\n",
      "4. questions:\n",
      "5. ***\n",
      "6. scene.\n",
      "7. is:\n",
      "8. incident\n",
      "9. vehicle\n",
      "10. response:\n",
      "11. chief\n",
      "12. complaint:\n",
      "13. statement:\n",
      "14. 1.\n",
      "15. 2.\n",
      "16. 3.\n",
      "17. 4.\n",
      "18. 5.\n",
      "19. 6.\n",
      "20. info\n",
      "21. /\n",
      "22. 7.\n",
      "23. one\n",
      "24. code:\n",
      "25. person\n",
      "26. .\n",
      "27. description\n",
      "28. known\n",
      "29. involved.\n",
      "30. involves\n",
      "31. dispatch\n",
      "32. male\n",
      "33. 8.\n",
      "34. suspect\n",
      "35. call\n",
      "36. 9.\n",
      "37. weapons\n",
      "38. adv\n",
      "39. 1.suspect:\n",
      "40. back\n",
      "41. 10.\n",
      "42. location\n",
      "43. race:\n",
      "44. priority\n",
      "45. gender:\n",
      "46. 11.\n",
      "47. color:\n",
      "48. age:\n",
      "49. danger.\n",
      "50. clothing:\n",
      "51. alarm\n",
      "52. party\n",
      "53. cb\n",
      "54. happened\n",
      "55. blk\n",
      "56. business/resident/owner\n",
      "57. suspect`s\n",
      "58. reported\n",
      "59. known.\n",
      "60. 12.\n",
      "61. phone\n",
      "62. number\n",
      "63. traffic\n",
      "64. left\n",
      "65. suspect/person\n",
      "66. 2\n",
      "67. progress.\n",
      "68. area.\n",
      "69. involved\n",
      "70. female\n",
      "71. victim\n",
      "72. calling\n",
      "73. suspicious\n",
      "74. black\n",
      "75. pd\n",
      "76. name\n",
      "77. responsible\n",
      "78. n/a\n",
      "79. make:\n",
      "80. medical\n",
      "81. mentioned.\n",
      "82. area\n",
      "83. needs\n",
      "84. door\n",
      "85. 13.\n",
      "86. s/he\n",
      "87. body:\n",
      "88. [fire]\n",
      "89. 2nd\n",
      "90. victim.\n",
      "91. disturbance\n",
      "92. see\n",
      "93. ft\n",
      "94. disturbance.\n",
      "95. white\n",
      "96. veh\n",
      "97. line\n",
      "98. open\n",
      "99. model:\n",
      "100. theft\n",
      "\n",
      "\n"
     ]
    }
   ],
   "source": [
    "print(\"========= TOP 100 WORDS =========\")\n",
    "l = fd.most_common()\n",
    "ndx = 0\n",
    "num = 1\n",
    "ignore = nltk.corpus.stopwords.words('english')\n",
    "while (num <= 100 and ndx < len(l)):\n",
    "    if l[ndx][0] not in ignore:\n",
    "        print(str(num) + \". \" + l[ndx][0])\n",
    "        num += 1\n",
    "    ndx += 1\n",
    "print(\"\\n\")"
   ]
  },
  {
   "cell_type": "markdown",
   "metadata": {},
   "source": [
    "Many of these words are part of the call scripts transcribed by the CAD system, describing the caller's answers to specific questions asked by the dispatcher.  We'll probably need to add the script words to a stopword list, but we can keep the descriptive words that go along with them."
   ]
  },
  {
   "cell_type": "code",
   "execution_count": 14,
   "metadata": {
    "collapsed": false
   },
   "outputs": [],
   "source": [
    "dpd_stopwords = set(nltk.corpus.stopwords.words('english'))\n",
    "\n",
    "domain_stopwords = set(['caller', '[epd]', '-', 'questions:', 'scene.', '***', 'is:', 'incident', 'response:', 'chief',\n",
    "                       'complaint:', 'statement:', 'info', 'description', 'known', 'involved', 'involves', 'dispatch',\n",
    "                       '1.', '2.', '3.', '4.', '5.', '6.', '7.', '8.', '9.', '10.', '11.', '12.', '13.', '/', 'code:',\n",
    "                       '.', 'call', 'suspect', 'adv', '1.suspect:', 'location', 'race:', 'priority', 'gender:',\n",
    "                       'color:', 'age:', 'clothing:', 'cb', 'suspect`s', 'reported', 'known.', 'suspect/person',\n",
    "                       'progress.', 'area.', 'pd', 'name', 'n/a', 'make:', 'area', 's/he',\n",
    "                       '[fire]', 'model:'])\n",
    "\n",
    "dpd_stopwords.update(domain_stopwords)"
   ]
  },
  {
   "cell_type": "markdown",
   "metadata": {},
   "source": [
    "Trying again with domain stopwords added:"
   ]
  },
  {
   "cell_type": "code",
   "execution_count": 16,
   "metadata": {
    "collapsed": false,
    "scrolled": true
   },
   "outputs": [
    {
     "name": "stdout",
     "output_type": "stream",
     "text": [
      "========= TOP 100 WORDS =========\n",
      "1. vehicle\n",
      "2. one\n",
      "3. person\n",
      "4. involved.\n",
      "5. male\n",
      "6. weapons\n",
      "7. back\n",
      "8. danger.\n",
      "9. alarm\n",
      "10. party\n",
      "11. happened\n",
      "12. blk\n",
      "13. business/resident/owner\n",
      "14. phone\n",
      "15. number\n",
      "16. traffic\n",
      "17. left\n",
      "18. 2\n",
      "19. female\n",
      "20. victim\n",
      "21. calling\n",
      "22. suspicious\n",
      "23. black\n",
      "24. responsible\n",
      "25. medical\n",
      "26. mentioned.\n",
      "27. needs\n",
      "28. door\n",
      "29. body:\n",
      "30. 2nd\n",
      "31. victim.\n",
      "32. disturbance\n",
      "33. see\n",
      "34. ft\n",
      "35. disturbance.\n",
      "36. white\n",
      "37. veh\n",
      "38. line\n",
      "39. open\n",
      "40. theft\n",
      "41. attention.\n",
      "42. past:\n",
      "43. aborted\n",
      "44. leave\n",
      "45. alarms\n",
      "46. reportedly\n",
      "47. caller.\n",
      "48. 14.\n",
      "49. drugs\n",
      "50. monitoring\n",
      "51. company.\n",
      "52. two\n",
      "53. activation\n",
      "54. still\n",
      "55. keyholder/owner\n",
      "56. blocking\n",
      "57. emergency\n",
      "58. car\n",
      "59. alarm.\n",
      "60. law\n",
      "61. incident.\n",
      "62. contacted.\n",
      "63. property\n",
      "64. st\n",
      "65. someone\n",
      "66. front\n",
      "67. going\n",
      "68. advised\n",
      "69. house\n",
      "70. vm\n",
      "71. suspect/person/vehicle\n",
      "72. 1\n",
      "73. 4\n",
      "74. vehicles\n",
      "75. blue\n",
      "76. burglary/intrusion\n",
      "77. tty\n",
      "78. unk\n",
      "79. no:\n",
      "80. alcohol\n",
      "81. 3\n",
      "82. officer\n",
      "83. vehicle.\n",
      "84. people\n",
      "85. 3rd\n",
      "86. might\n",
      "87. in.\n",
      "88. wants\n",
      "89. ago):\n",
      "90. (minutes\n",
      "91. name:\n",
      "92. wanted\n",
      "93. slowing\n",
      "94. apt\n",
      "95. stated\n",
      "96. small\n",
      "97. contact\n",
      "98. shirt\n",
      "99. needed\n",
      "100. susp\n",
      "\n",
      "\n"
     ]
    }
   ],
   "source": [
    "print(\"========= TOP 100 WORDS =========\")\n",
    "l = fd.most_common()\n",
    "ndx = 0\n",
    "num = 1\n",
    "ignore = dpd_stopwords\n",
    "while (num <= 100 and ndx < len(l)):\n",
    "    if l[ndx][0] not in ignore:\n",
    "        print(str(num) + \". \" + l[ndx][0])\n",
    "        num += 1\n",
    "    ndx += 1\n",
    "print(\"\\n\")"
   ]
  }
 ],
 "metadata": {
  "kernelspec": {
   "display_name": "Python 3",
   "language": "python",
   "name": "python3"
  },
  "language_info": {
   "codemirror_mode": {
    "name": "ipython",
    "version": 3
   },
   "file_extension": ".py",
   "mimetype": "text/x-python",
   "name": "python",
   "nbconvert_exporter": "python",
   "pygments_lexer": "ipython3",
   "version": "3.4.3"
  }
 },
 "nbformat": 4,
 "nbformat_minor": 0
}
